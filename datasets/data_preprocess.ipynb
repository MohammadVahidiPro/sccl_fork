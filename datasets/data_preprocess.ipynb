{
 "cells": [
  {
   "cell_type": "code",
   "execution_count": 65,
   "metadata": {},
   "outputs": [],
   "source": [
    "import pandas as pd"
   ]
  },
  {
   "cell_type": "code",
   "execution_count": 66,
   "metadata": {},
   "outputs": [],
   "source": [
    "def preprocess(dataset_name):\n",
    "    dataset = pd.read_csv(f\"{dataset_name}\", header=None, delimiter='\\t')\n",
    "    # dataset = dataset[0].str.split('\\t', expand=True)\n",
    "    try:\n",
    "        dataset.columns = ['label', 'text']\n",
    "    except:\n",
    "        del dataset[2]\n",
    "        dataset.columns = ['label', 'text']\n",
    "        \n",
    "    dataset.to_csv(f\"{dataset_name}.csv\", index=False)\n",
    "    "
   ]
  },
  {
   "cell_type": "code",
   "execution_count": 67,
   "metadata": {},
   "outputs": [
    {
     "name": "stdout",
     "output_type": "stream",
     "text": [
      "agnews\n",
      "searchsnippets\n",
      "stackoverflow\n",
      "biomedical\n",
      "googlenews_TS\n",
      "googlenews_T\n",
      "googlenews_S\n"
     ]
    }
   ],
   "source": [
    "datasets = [\"agnews\", \"searchsnippets\", \"stackoverflow\", \"biomedical\", \"googlenews_TS\", \"googlenews_T\", \"googlenews_S\"]\n",
    "\n",
    "for dataset in datasets:\n",
    "    preprocess(dataset)\n",
    "    print(\"Finish preprocess \", dataset)"
   ]
  }
 ],
 "metadata": {
  "kernelspec": {
   "display_name": "transphla",
   "language": "python",
   "name": "python3"
  },
  "language_info": {
   "codemirror_mode": {
    "name": "ipython",
    "version": 3
   },
   "file_extension": ".py",
   "mimetype": "text/x-python",
   "name": "python",
   "nbconvert_exporter": "python",
   "pygments_lexer": "ipython3",
   "version": "3.9.12"
  },
  "orig_nbformat": 4,
  "vscode": {
   "interpreter": {
    "hash": "86fb9318a140731e8836c78190dc1451e1e7068ca9223c9fa034b28fa11ecff3"
   }
  }
 },
 "nbformat": 4,
 "nbformat_minor": 2
}
